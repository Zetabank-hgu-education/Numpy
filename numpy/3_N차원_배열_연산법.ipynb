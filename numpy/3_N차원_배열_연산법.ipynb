{
  "nbformat": 4,
  "nbformat_minor": 0,
  "metadata": {
    "colab": {
      "provenance": []
    },
    "kernelspec": {
      "name": "python3",
      "display_name": "Python 3"
    },
    "language_info": {
      "name": "python"
    }
  },
  "cells": [
    {
      "cell_type": "markdown",
      "source": [
        "N차원 배열 연산법"
      ],
      "metadata": {
        "id": "_qYhYh7nIsTF"
      }
    },
    {
      "cell_type": "markdown",
      "source": [
        "3-1. 배열의 연산1"
      ],
      "metadata": {
        "id": "uxwEKKfoIv1R"
      }
    },
    {
      "cell_type": "code",
      "execution_count": null,
      "metadata": {
        "colab": {
          "base_uri": "https://localhost:8080/"
        },
        "id": "xU5aUNzZIryc",
        "outputId": "b2e12faf-bf54-4ada-8706-6b2fa98751fa"
      },
      "outputs": [
        {
          "output_type": "stream",
          "name": "stdout",
          "text": [
            "[[1 2 3]\n",
            " [4 5 6]\n",
            " [7 8 9]]\n",
            "[[2 2 2]\n",
            " [2 2 2]\n",
            " [2 2 2]]\n"
          ]
        }
      ],
      "source": [
        "import numpy as np\n",
        "# 연산을 위해서는 두 배열의 shape이 같아야한다.\n",
        "#쉐입이 다른  배열의 연산을 가능하게 해주는 브로드캐스팅 기능이 있음\n",
        "\n",
        "#numpy는 파이썬 기본 연산자를 n차원 배열, 즉 행렬이나 텐서 간의 연산이 가능하도록 정의\n",
        "\n",
        "arr1 = np.array([[1,2,3],\n",
        "                 [4,5,6],\n",
        "                  [7,8,9]])\n",
        "arr2 = np.array([[2,2,2],\n",
        "                 [2,2,2],\n",
        "                  [2,2,2]])\n",
        "print(arr1)\n",
        "print(arr2)\n"
      ]
    },
    {
      "cell_type": "code",
      "source": [
        "#덧셈\n",
        "print(arr1 + arr2)\n",
        "print(np.add(arr1, arr2))"
      ],
      "metadata": {
        "colab": {
          "base_uri": "https://localhost:8080/"
        },
        "id": "Aw2Pi5RsKmUs",
        "outputId": "c8fbdb14-29f6-4ccf-ac9a-d51e44ac1842"
      },
      "execution_count": null,
      "outputs": [
        {
          "output_type": "stream",
          "name": "stdout",
          "text": [
            "[[ 3  4  5]\n",
            " [ 6  7  8]\n",
            " [ 9 10 11]]\n",
            "[[ 3  4  5]\n",
            " [ 6  7  8]\n",
            " [ 9 10 11]]\n"
          ]
        }
      ]
    },
    {
      "cell_type": "code",
      "source": [
        "#뺄셈\n",
        "print(arr1 - arr2)\n",
        "print(np.subtract(arr1, arr2))\n"
      ],
      "metadata": {
        "colab": {
          "base_uri": "https://localhost:8080/"
        },
        "id": "T8k5PiYTKvKZ",
        "outputId": "7aa3cfee-64fe-46a5-b814-e729a31d099e"
      },
      "execution_count": null,
      "outputs": [
        {
          "output_type": "stream",
          "name": "stdout",
          "text": [
            "[[-1  0  1]\n",
            " [ 2  3  4]\n",
            " [ 5  6  7]]\n",
            "[[-1  0  1]\n",
            " [ 2  3  4]\n",
            " [ 5  6  7]]\n"
          ]
        }
      ]
    },
    {
      "cell_type": "code",
      "source": [
        "#곱셈 -> 내적 연산이 아닌 원소끼리의 곱\n",
        "print(arr1 * arr2)\n",
        "print(np.multiply(arr1, arr2))\n"
      ],
      "metadata": {
        "colab": {
          "base_uri": "https://localhost:8080/"
        },
        "id": "xgissgnAK3DJ",
        "outputId": "5706311a-bbdf-4217-f962-4851c2063c7d"
      },
      "execution_count": null,
      "outputs": [
        {
          "output_type": "stream",
          "name": "stdout",
          "text": [
            "[[ 2  4  6]\n",
            " [ 8 10 12]\n",
            " [14 16 18]]\n",
            "[[ 2  4  6]\n",
            " [ 8 10 12]\n",
            " [14 16 18]]\n"
          ]
        }
      ]
    },
    {
      "cell_type": "code",
      "source": [
        "import numpy as np\n",
        "# 연산을 위해서는 두 배열의 shape이 같아야한다.\n",
        "\n",
        "#numpy는 파이썬 기본 연산자를 n차원 배열, 즉 행렬이나 텐서 간의 연산이 가능하도록 정의\n",
        "\n",
        "arr1 = np.array([[1,2,3],\n",
        "                 [4,5,6],\n",
        "                  [7,8,9]])\n",
        "arr2 = np.array([[2,2,2],\n",
        "                 [2,2,2],\n",
        "                  [2,2,2]])\n",
        "# print(arr1)\n",
        "# print(arr2)\n",
        "\n",
        "#나눗셈\n",
        "print(arr1 / arr2)\n",
        "print(np.divide(arr1, arr2))\n"
      ],
      "metadata": {
        "id": "b8AnU7HnLBqD",
        "colab": {
          "base_uri": "https://localhost:8080/"
        },
        "outputId": "1a67e4e2-d5c3-4180-91e5-58dcbb107736"
      },
      "execution_count": null,
      "outputs": [
        {
          "output_type": "stream",
          "name": "stdout",
          "text": [
            "[[0.5 1.  1.5]\n",
            " [2.  2.5 3. ]\n",
            " [3.5 4.  4.5]]\n",
            "[[0.5 1.  1.5]\n",
            " [2.  2.5 3. ]\n",
            " [3.5 4.  4.5]]\n"
          ]
        }
      ]
    },
    {
      "cell_type": "code",
      "source": [
        "#제곱\n",
        "arr1 = np.array([[1,2,3],\n",
        "                 [4,5,6],\n",
        "                  [7,8,9]])\n",
        "arr2 = np.array([[2,2,2],\n",
        "                 [2,2,2],\n",
        "                  [2,2,2]])\n",
        "print(arr1 ** 2) #2제곱\n",
        "print(arr1 ** 5) #5제곱\n",
        "print(np.square(arr1)) #square를 이용하여 자기자신을 한번 곱셈\n",
        "\n",
        "#제곱근\n",
        "print(np.sqrt(arr1)) #square root 함수 사용 -> 각 원소 제곱근 출력"
      ],
      "metadata": {
        "colab": {
          "base_uri": "https://localhost:8080/"
        },
        "id": "pEMEs-AkLHdU",
        "outputId": "de14e882-7565-4052-9851-8ccaea1a71ee"
      },
      "execution_count": null,
      "outputs": [
        {
          "output_type": "stream",
          "name": "stdout",
          "text": [
            "[[ 1  4  9]\n",
            " [16 25 36]\n",
            " [49 64 81]]\n",
            "[[    1    32   243]\n",
            " [ 1024  3125  7776]\n",
            " [16807 32768 59049]]\n",
            "[[ 1  4  9]\n",
            " [16 25 36]\n",
            " [49 64 81]]\n",
            "[[1.         1.41421356 1.73205081]\n",
            " [2.         2.23606798 2.44948974]\n",
            " [2.64575131 2.82842712 3.        ]]\n"
          ]
        }
      ]
    },
    {
      "cell_type": "code",
      "source": [
        "#몫\n",
        "print(arr1 // 2)\n",
        "\n",
        "#나머지 -> 짝수들은 0 출력, 홀수들은 1 출력\n",
        "print(arr1 % 2)"
      ],
      "metadata": {
        "colab": {
          "base_uri": "https://localhost:8080/"
        },
        "id": "_dGIavYdLnBF",
        "outputId": "de7685cd-8f11-4588-f995-c05042374354"
      },
      "execution_count": null,
      "outputs": [
        {
          "output_type": "stream",
          "name": "stdout",
          "text": [
            "[[0 1 1]\n",
            " [2 2 3]\n",
            " [3 4 4]]\n",
            "[[1 0 1]\n",
            " [0 1 0]\n",
            " [1 0 1]]\n"
          ]
        }
      ]
    },
    {
      "cell_type": "markdown",
      "source": [
        "3-2 배열의 연산2 : 내적(dot product) / 절댓값 / 올림 / 내림 / 반올림 / 버림"
      ],
      "metadata": {
        "id": "rLbUdCwRL4vz"
      }
    },
    {
      "cell_type": "code",
      "source": [
        "import numpy as np\n",
        "#dot product :  각각의 원소의 곱의합\n",
        "#1차원 행렬\n",
        "arr1 = np.array([2,3,4]) # 2곱하기1 3곱하기2 4곱하기3을 다 더한값 출력\n",
        "arr2 = np.array([1,2,3])\n",
        "\n",
        "print(np.dot(arr1,arr2))"
      ],
      "metadata": {
        "id": "01WkGkaOL64r",
        "colab": {
          "base_uri": "https://localhost:8080/"
        },
        "outputId": "a7c437c7-6ca9-4ecc-98bd-acd4199b6aba"
      },
      "execution_count": null,
      "outputs": [
        {
          "output_type": "stream",
          "name": "stdout",
          "text": [
            "20\n"
          ]
        }
      ]
    },
    {
      "cell_type": "code",
      "source": [
        "#2차원 행렬 dot product\n",
        "arr1 = np.array([[1,2],\n",
        "                 [4,5]])\n",
        "arr2 = np.array([[1,2],\n",
        "                 [0,3]])\n",
        "print(np.dot(arr1, arr2))"
      ],
      "metadata": {
        "colab": {
          "base_uri": "https://localhost:8080/"
        },
        "id": "Rwqt2xSQ2bqg",
        "outputId": "7d3ed5b9-54f8-4763-bcdc-88f3f8878372"
      },
      "execution_count": null,
      "outputs": [
        {
          "output_type": "stream",
          "name": "stdout",
          "text": [
            "[[ 1  8]\n",
            " [ 4 23]]\n"
          ]
        }
      ]
    },
    {
      "cell_type": "code",
      "source": [
        "import numpy as np\n",
        "arr1 = np.array([[1.932, -2.339],\n",
        "                 [-4.145, 5.206]])\n",
        "#절댓값 -> abs\n",
        "print(np.abs(arr1))\n",
        "\n",
        "#올림 => ceil\n",
        "print(np.ceil(arr1))\n",
        "\n",
        "#내림 -> floor\n",
        "print(np.floor(arr1))\n",
        "\n",
        "#반올림 -> round\n",
        "print(np.round(arr1))\n",
        "\n",
        "#버림 -> trunc\n",
        "print(np.trunc(arr1))"
      ],
      "metadata": {
        "colab": {
          "base_uri": "https://localhost:8080/"
        },
        "id": "zkyF_C2H4U0J",
        "outputId": "80a05f1a-cadd-400f-cd08-5f309cd5c94a"
      },
      "execution_count": 3,
      "outputs": [
        {
          "output_type": "stream",
          "name": "stdout",
          "text": [
            "[[1.932 2.339]\n",
            " [4.145 5.206]]\n",
            "[[ 2. -2.]\n",
            " [-4.  6.]]\n",
            "[[ 1. -3.]\n",
            " [-5.  5.]]\n",
            "[[ 2. -2.]\n",
            " [-4.  5.]]\n",
            "[[ 1. -2.]\n",
            " [-4.  5.]]\n"
          ]
        }
      ]
    },
    {
      "cell_type": "markdown",
      "source": [
        "3-3 배열의 연산 : min/max/sum/mean/std/cumsum"
      ],
      "metadata": {
        "id": "qxfck3v446tx"
      }
    },
    {
      "cell_type": "code",
      "source": [
        "arr = np.array([[1,2,3],\n",
        "                [0,1,4]])\n",
        "#min / max : 행렬의 원소중 가장 큰, 작은값 출력\n",
        "print(np.min(arr))\n",
        "print(np.max(arr))\n",
        "\n",
        "#axis : 0 -> 각 열중 가장 큰, 작은값\n",
        "print(arr.min(axis=0))\n",
        "print(arr.max(axis=0))\n",
        "\n",
        "#axis : 1 -> 각 행중 가장 큰, 작은값\n",
        "print(arr.min(axis=1))\n",
        "print(arr.max(axis=1))"
      ],
      "metadata": {
        "colab": {
          "base_uri": "https://localhost:8080/"
        },
        "id": "dO1UebWo5C94",
        "outputId": "b35bf7e3-98a5-4ee3-849b-bb88464bf95d"
      },
      "execution_count": 4,
      "outputs": [
        {
          "output_type": "stream",
          "name": "stdout",
          "text": [
            "0\n",
            "4\n",
            "[0 1 3]\n",
            "[1 2 4]\n",
            "[1 0]\n",
            "[3 4]\n"
          ]
        }
      ]
    },
    {
      "cell_type": "code",
      "source": [
        "arr = np.array([[1,2,3],\n",
        "                [0,1,4]])\n",
        "#sum : 모든 원소들의 합\n",
        "print(np.sum(arr))\n",
        "\n",
        "#각 열, 행 원소들의 합\n",
        "print(arr.sum(axis=0)) #열\n",
        "print(arr.sum(axis=1)) #행\n",
        "\n",
        "#mean : 모든 원소들의 평균값\n",
        "print(np.mean(arr))\n",
        "\n",
        "#각 열, 행 원소들의 평균값\n",
        "print(arr.mean(axis=0)) #열\n",
        "print(arr.mean(axis=1)) #행"
      ],
      "metadata": {
        "colab": {
          "base_uri": "https://localhost:8080/"
        },
        "id": "4ctf9XL49hlz",
        "outputId": "802613f5-3e02-4e0e-8e1a-d21497fe54c4"
      },
      "execution_count": 5,
      "outputs": [
        {
          "output_type": "stream",
          "name": "stdout",
          "text": [
            "11\n",
            "[1 3 7]\n",
            "[6 5]\n",
            "1.8333333333333333\n",
            "[0.5 1.5 3.5]\n",
            "[2.         1.66666667]\n"
          ]
        }
      ]
    },
    {
      "cell_type": "markdown",
      "source": [
        "3-4 배열의 연산4 : 비교연산/삼각함수"
      ],
      "metadata": {
        "id": "1QDOiawyAMnC"
      }
    },
    {
      "cell_type": "code",
      "source": [
        "#비교 연산 : True False로 출력\n",
        "arr1 = np.array([[1,2,3],\n",
        "                 [4,5,6]])\n",
        "arr2 = np.array([[1,0,3],\n",
        "                 [4,-2,9]])\n",
        "\n",
        "\n",
        "#동등연산자\n",
        "print(arr1 == arr2)\n",
        "\n",
        "#대소연산자\n",
        "print(arr1 > arr2)\n",
        "print(arr1 >= arr2)\n",
        "\n",
        "#배열 전체가 동일한지 여부를 비교\n",
        "print(np.array_equal(arr1, arr2))"
      ],
      "metadata": {
        "colab": {
          "base_uri": "https://localhost:8080/"
        },
        "id": "BXvh9Qvy_4mK",
        "outputId": "208138e2-cc75-42f4-fbfd-a62ab1391778"
      },
      "execution_count": 8,
      "outputs": [
        {
          "output_type": "stream",
          "name": "stdout",
          "text": [
            "[[ True False  True]\n",
            " [ True False False]]\n",
            "[[False  True False]\n",
            " [False  True False]]\n",
            "[[ True  True  True]\n",
            " [ True  True False]]\n",
            "False\n"
          ]
        }
      ]
    },
    {
      "cell_type": "code",
      "source": [
        "#삼각 함수\n",
        "arr1 = np.array([[1,2,3],\n",
        "                 [4,5,6]])\n",
        "\n",
        "#sin() -> 각 원소들의 sin값 출력수\n",
        "print(np.sin(arr))\n",
        "#con() -> 각 원소들의 cos값 출력\n",
        "print(np.cos(arr))\n",
        "#tan() -> 각 원소들의 tan값 출력\n",
        "print(np.tan(arr))"
      ],
      "metadata": {
        "colab": {
          "base_uri": "https://localhost:8080/"
        },
        "id": "N-ND56F9A72y",
        "outputId": "16a6d0d4-052b-4f51-f243-815754ca5cd7"
      },
      "execution_count": 6,
      "outputs": [
        {
          "output_type": "stream",
          "name": "stdout",
          "text": [
            "[[ 0.84147098  0.90929743  0.14112001]\n",
            " [ 0.          0.84147098 -0.7568025 ]]\n",
            "[[ 0.54030231 -0.41614684 -0.9899925 ]\n",
            " [ 1.          0.54030231 -0.65364362]]\n",
            "[[ 1.55740772 -2.18503986 -0.14254654]\n",
            " [ 0.          1.55740772  1.15782128]]\n"
          ]
        }
      ]
    },
    {
      "cell_type": "markdown",
      "source": [
        "3-5 브로드캐스팅"
      ],
      "metadata": {
        "id": "1ZBAY9DLBYxy"
      }
    },
    {
      "cell_type": "code",
      "source": [
        "#기존에 배웠던 배열간 연산들은 연산을 할 배열의 쉐입이 서로 같아야 한다고 했음\n",
        "#단순 연산을 위해 일일히 배열들 쉐입을 맞추는게 조금 번거러워 브로드캐스팅 기능을 사용\n",
        "\n",
        "arr1 = np.array([[0,0,0],\n",
        "                 [1,1,1],\n",
        "                [2,2,2]])\n",
        "arr2 = np.array([[5,6,7]])\n",
        "\n",
        "print(arr1 + arr2) #두번쨰 배열이 첫번째 원소에 맞춰 확장되어 계산\n",
        "\n",
        "arr1 = np.array([[1,1,1]])\n",
        "arr2 = np.array([[0],\n",
        "                 [1],\n",
        "                 [2]])\n",
        "print(arr1 + arr2) #첫번째 배열이 두번째에 맞추고 두번째 배열도 첫번째 배열에 맞춰 확장되어 계산"
      ],
      "metadata": {
        "colab": {
          "base_uri": "https://localhost:8080/"
        },
        "id": "2pZnjLwEBbsR",
        "outputId": "9880814f-1c8c-4477-937f-6ee3c614baa2"
      },
      "execution_count": 9,
      "outputs": [
        {
          "output_type": "stream",
          "name": "stdout",
          "text": [
            "[[5 6 7]\n",
            " [6 7 8]\n",
            " [7 8 9]]\n",
            "[[1 1 1]\n",
            " [2 2 2]\n",
            " [3 3 3]]\n"
          ]
        }
      ]
    },
    {
      "cell_type": "markdown",
      "source": [
        "3-6 벡터 연산의 장점"
      ],
      "metadata": {
        "id": "xtmCMfr5E4Lj"
      }
    },
    {
      "cell_type": "code",
      "source": [
        "# 행렬 벡터 연산을 사용하게 되면 배열의 연산을 매우 빠르게 처리할 수 있는장점이 있다. for문과 비교\n",
        "# 특히 딥러닝에서 선형대수 관련 연삳늘을 처리할 때 높은 연산 속도를 기대할 수 있다\n",
        "\n",
        "#속도가 얼마나 차이나는지 확인을 해보기 위해 time이라는 모듈 import\n"
      ],
      "metadata": {
        "id": "zkaOg3NXE6wL"
      },
      "execution_count": null,
      "outputs": []
    },
    {
      "cell_type": "code",
      "source": [],
      "metadata": {
        "id": "5G_tH-EQFO9U"
      },
      "execution_count": null,
      "outputs": []
    },
    {
      "cell_type": "code",
      "source": [
        "import time\n",
        "import numpy as np\n",
        "arr = np.arange(999999999)\n",
        "sum = 0; #sum함수 만들기\n",
        "before = time.time() # 연산을 하기 이전에 시간을 기록 / time모듈의 time함수 이용\n",
        "\n",
        "#for -> for문을 이용해서 배열의 모든 원소들의 합 결과\n",
        "for i in arr:\n",
        "  sum += i #arr 모든 원소들을 sum함수에 더해주기\n",
        "after = time.time() # 연산이 끝나면 시간을 다시 기록\n",
        "print(sum, after - before, \"초\") #-> 연산에 걸렸던 총시간"
      ],
      "metadata": {
        "colab": {
          "base_uri": "https://localhost:8080/"
        },
        "id": "BYkQNuFWFbtq",
        "outputId": "29ff473c-60bd-4505-d184-61de63e44f2c"
      },
      "execution_count": null,
      "outputs": [
        {
          "output_type": "stream",
          "name": "stdout",
          "text": [
            "499999998500000001 188.9275860786438 초\n"
          ]
        }
      ]
    },
    {
      "cell_type": "code",
      "source": [
        "#벡터 연산\n",
        "before = time.time()\n",
        "sum = np.sum(arr)\n",
        "after = time.time()\n",
        "print(sum, after - before, \"초\")"
      ],
      "metadata": {
        "colab": {
          "base_uri": "https://localhost:8080/"
        },
        "id": "0Obzw5UhHDFN",
        "outputId": "d628b489-32d8-41cc-8c78-6ed05091df9d"
      },
      "execution_count": null,
      "outputs": [
        {
          "output_type": "stream",
          "name": "stdout",
          "text": [
            "499999998500000001 0.7746479511260986 초\n"
          ]
        }
      ]
    },
    {
      "cell_type": "code",
      "source": [
        "arr1 = np.arange(999999999)\n",
        "arr2 = np.arange(999999999)"
      ],
      "metadata": {
        "id": "-H1ri8a2HSzr"
      },
      "execution_count": null,
      "outputs": []
    }
  ]
}