{
  "cells": [
    {
      "cell_type": "markdown",
      "metadata": {
        "id": "DXAh6bPzHtL5"
      },
      "source": [
        "4-1 1차원 배열의 정렬"
      ]
    },
    {
      "cell_type": "code",
      "execution_count": null,
      "metadata": {
        "colab": {
          "base_uri": "https://localhost:8080/"
        },
        "id": "cRite2fuHlkF",
        "outputId": "03144b54-a884-429c-e4e0-5ef5e505364b"
      },
      "outputs": [],
      "source": [
        "import numpy as np\n",
        "\n",
        "arr = np.random.randint(10, size=10)\n",
        "print(arr)\n",
        "# 오름차순 정렬\n",
        "print(np.sort(arr))\n",
        "\n",
        "#내림차순 정렬\n",
        "print(np.sort(arr)[::-1])\n",
        "\n",
        "# 원본 배열에는 정렬된 값들이 유지X\n",
        "print(arr)\n",
        "\n",
        "#arr배열자체를  sort함수로 정의\n",
        "arr = np.sort(arr)\n",
        "print(arr)"
      ]
    },
    {
      "cell_type": "markdown",
      "metadata": {
        "id": "U1yT2E8MLDhy"
      },
      "source": [
        "4-2 2차원 배열의 정렬"
      ]
    },
    {
      "cell_type": "code",
      "execution_count": null,
      "metadata": {
        "colab": {
          "base_uri": "https://localhost:8080/"
        },
        "id": "3PF3GqnfLGjC",
        "outputId": "1443833a-d688-4a5a-b84f-207843309f47"
      },
      "outputs": [],
      "source": [
        "arr = np.random.randint(15, size= (3,4))\n",
        "print(arr)\n",
        "\n",
        "#행을 기준으로 오름차순 정렬\n",
        "print(np.sort(arr, axis=1))\n",
        "#열을 기준으로 오름차순 정렬\n",
        "print(np.sort(arr, axis=0))\n",
        "\n",
        "#axis = none\n",
        "print(np.sort(arr, axis=None))"
      ]
    }
  ],
  "metadata": {
    "colab": {
      "provenance": []
    },
    "kernelspec": {
      "display_name": "Python 3",
      "name": "python3"
    },
    "language_info": {
      "name": "python"
    }
  },
  "nbformat": 4,
  "nbformat_minor": 0
}
