{
  "nbformat": 4,
  "nbformat_minor": 0,
  "metadata": {
    "colab": {
      "provenance": []
    },
    "kernelspec": {
      "name": "python3",
      "display_name": "Python 3"
    },
    "language_info": {
      "name": "python"
    }
  },
  "cells": [
    {
      "cell_type": "markdown",
      "source": [
        "4-1 1차원 배열의 정렬"
      ],
      "metadata": {
        "id": "DXAh6bPzHtL5"
      }
    },
    {
      "cell_type": "code",
      "execution_count": 1,
      "metadata": {
        "colab": {
          "base_uri": "https://localhost:8080/"
        },
        "id": "cRite2fuHlkF",
        "outputId": "03144b54-a884-429c-e4e0-5ef5e505364b"
      },
      "outputs": [
        {
          "output_type": "stream",
          "name": "stdout",
          "text": [
            "[2 8 8 2 3 3 5 1 7 4]\n",
            "[1 2 2 3 3 4 5 7 8 8]\n",
            "[8 8 7 5 4 3 3 2 2 1]\n",
            "[2 8 8 2 3 3 5 1 7 4]\n",
            "[1 2 2 3 3 4 5 7 8 8]\n"
          ]
        }
      ],
      "source": [
        "import numpy as np\n",
        "\n",
        "arr = np.random.randint(10, size=10)\n",
        "print(arr)\n",
        "# 오름차순 정렬\n",
        "print(np.sort(arr))\n",
        "\n",
        "#내림차순 정렬\n",
        "print(np.sort(arr)[::-1])\n",
        "\n",
        "# 원본 배열에는 정렬된 값들이 유지X\n",
        "print(arr)\n",
        "\n",
        "#arr배열자체를  sort함수로 정의\n",
        "arr = np.sort(arr)\n",
        "print(arr)"
      ]
    },
    {
      "cell_type": "markdown",
      "source": [
        "4-2 2차원 배열의 정렬"
      ],
      "metadata": {
        "id": "U1yT2E8MLDhy"
      }
    },
    {
      "cell_type": "code",
      "source": [
        "arr = np.random.randint(15, size= (3,4))\n",
        "print(arr)\n",
        "\n",
        "#행을 기준으로 오름차순 정렬\n",
        "print(np.sort(arr, axis=1))\n",
        "#열을 기준으로 오름차순 정렬\n",
        "print(np.sort(arr, axis=0))\n",
        "\n",
        "#axis = none\n",
        "print(np.sort(arr, axis=None))"
      ],
      "metadata": {
        "colab": {
          "base_uri": "https://localhost:8080/"
        },
        "id": "3PF3GqnfLGjC",
        "outputId": "1443833a-d688-4a5a-b84f-207843309f47"
      },
      "execution_count": 2,
      "outputs": [
        {
          "output_type": "stream",
          "name": "stdout",
          "text": [
            "[[ 4 11  3  7]\n",
            " [ 5  8  1 14]\n",
            " [ 6  8 11 12]]\n",
            "[[ 3  4  7 11]\n",
            " [ 1  5  8 14]\n",
            " [ 6  8 11 12]]\n",
            "[[ 4  8  1  7]\n",
            " [ 5  8  3 12]\n",
            " [ 6 11 11 14]]\n",
            "[ 1  3  4  5  6  7  8  8 11 11 12 14]\n"
          ]
        }
      ]
    }
  ]
}