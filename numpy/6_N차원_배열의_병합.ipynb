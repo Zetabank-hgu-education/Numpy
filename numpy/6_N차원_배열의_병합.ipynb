{
  "cells": [
    {
      "cell_type": "markdown",
      "metadata": {
        "id": "tybFUSk5bnxk"
      },
      "source": [
        "6-1. 배열에 원소 추가 및 삭제"
      ]
    },
    {
      "cell_type": "code",
      "execution_count": null,
      "metadata": {
        "colab": {
          "base_uri": "https://localhost:8080/"
        },
        "id": "EadTFFcRcAnt",
        "outputId": "85b22649-77b1-4568-b7b6-a15027a0d60d"
      },
      "outputs": [],
      "source": [
        "#insert\n",
        "import numpy as np\n",
        "\n",
        "#1차원 배열\n",
        "arr = np.arange(1,9)\n",
        "print(arr)\n",
        "\n",
        "#insert\n",
        "arr = np.insert(arr, 2, 50)\n",
        "print(arr)"
      ]
    },
    {
      "cell_type": "code",
      "execution_count": null,
      "metadata": {
        "colab": {
          "base_uri": "https://localhost:8080/"
        },
        "id": "EQhyrZBPcT5d",
        "outputId": "128120be-dff3-44ba-d99e-86e9743f58d1"
      },
      "outputs": [],
      "source": [
        "#insert\n",
        "import numpy as np\n",
        "#2차원 배열\n",
        "arr = np.arange(1,13).reshape(3,4)\n",
        "\n",
        "#axis값을 주지 않으면 1차원 배열로 변형 후 insert 함수 적용\n",
        "arr = np.insert(arr, 2, 50)\n",
        "print(arr)\n",
        "\n",
        "#행을 기준으로 2번째 위치에 원소 50 삽입\n",
        "arr = np.arange(1,13).reshape(3,4)\n",
        "arr = np.insert(arr, 2, 50, axis=0)\n",
        "print(arr)\n",
        "\n",
        "#열을 기준으로 2번째 위치에 원소 50 삽입\n",
        "arr = np.arange(1,13).reshape(3,4)\n",
        "arr = np.insert(arr, 2, 50, axis=1)\n",
        "print(arr)"
      ]
    },
    {
      "cell_type": "code",
      "execution_count": null,
      "metadata": {
        "colab": {
          "base_uri": "https://localhost:8080/"
        },
        "id": "uYVOCxHAc81k",
        "outputId": "2f23553a-208f-4914-dbfc-f88529ff3254"
      },
      "outputs": [],
      "source": [
        "#delete\n",
        "import numpy as np\n",
        "arr = np.arange(1,13).reshape(3,4)\n",
        "print(arr)\n",
        "\n",
        "#axis값을 주지 않으면 1차원 배열로 변형 후 delete 함수 적용\n",
        "arr = np.delete(arr, 2)\n",
        "print(arr)\n",
        "\n",
        "#행을 기준으로 2번째 위치의 행 삭제\n",
        "arr = np.arange(1,13).reshape(3,4)\n",
        "arr = np.delete(arr, 2, axis=0)\n",
        "print(arr)\n",
        "\n",
        "#열을 기준으로 2번째 위치의 열 삭제\n",
        "arr = np.arange(1,13).reshape(3,4)\n",
        "arr = np.delete(arr, 2, axis=1)\n",
        "print(arr)"
      ]
    },
    {
      "cell_type": "markdown",
      "metadata": {
        "id": "XqZ-BQEEdhFF"
      },
      "source": [
        "6-2 배열간의 병합"
      ]
    },
    {
      "cell_type": "code",
      "execution_count": null,
      "metadata": {
        "colab": {
          "base_uri": "https://localhost:8080/"
        },
        "id": "rAlcSIeFdj-k",
        "outputId": "9c5163cc-0a0d-4f17-fb39-cf19162c8a61"
      },
      "outputs": [],
      "source": [
        "#append\n",
        "import numpy as np\n",
        "arr1 = np.arange(1,13).reshape(3,4)\n",
        "arr2 = np.arange(1,13).reshape(3,4)\n",
        "\n",
        "#행을 기준으로 arr1,2 배열 병합\n",
        "arr3 = np.append(arr1, arr2, axis=0)\n",
        "print(arr3)\n",
        "#열을 기준으로 arr1,2 배열 병합\n",
        "arr3 = np.append(arr1, arr2, axis=1)\n",
        "print(arr3)"
      ]
    },
    {
      "cell_type": "code",
      "execution_count": null,
      "metadata": {
        "colab": {
          "base_uri": "https://localhost:8080/"
        },
        "id": "XWNblGRVenqu",
        "outputId": "043cc7a7-53b9-40ca-81d4-bf9a616c22bd"
      },
      "outputs": [],
      "source": [
        "#vstack, hstack\n",
        "import numpy as np\n",
        "\n",
        "arr1 = np.arange(1,7).reshape(2,3)\n",
        "arr2 = np.arange(7,13).reshape(2,3)\n",
        "\n",
        "#vstack : 행을 기준으로 arr1,2 배열 병합\n",
        "arr3 = np.vstack((arr1, arr2))\n",
        "print(arr3)\n",
        "\n",
        "#hstack : 열을 기준으로 arr1,2 배열 병합\n",
        "arr3 = np.hstack((arr1, arr2))\n",
        "print(arr3)"
      ]
    }
  ],
  "metadata": {
    "colab": {
      "provenance": []
    },
    "kernelspec": {
      "display_name": "Python 3",
      "name": "python3"
    },
    "language_info": {
      "name": "python"
    }
  },
  "nbformat": 4,
  "nbformat_minor": 0
}
