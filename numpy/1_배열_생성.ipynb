{
  "nbformat": 4,
  "nbformat_minor": 0,
  "metadata": {
    "colab": {
      "provenance": []
    },
    "kernelspec": {
      "name": "python3",
      "display_name": "Python 3"
    },
    "language_info": {
      "name": "python"
    }
  },
  "cells": [
    {
      "cell_type": "code",
      "execution_count": null,
      "metadata": {
        "id": "MzTaoNmJCm1J"
      },
      "outputs": [],
      "source": [
        "import numpy as np\n"
      ]
    },
    {
      "cell_type": "code",
      "source": [],
      "metadata": {
        "id": "pxuKD8YzJoIO"
      },
      "execution_count": null,
      "outputs": []
    },
    {
      "cell_type": "markdown",
      "source": [
        "Section1. N차원 배열 생성"
      ],
      "metadata": {
        "id": "eX19SOr5GSh9"
      }
    },
    {
      "cell_type": "markdown",
      "source": [
        "1-1. N차원 배열(ndarray)생성하기"
      ],
      "metadata": {
        "id": "xoHEp-cAGZad"
      }
    },
    {
      "cell_type": "code",
      "source": [
        "import numpy as np\n",
        "#1차원 배열\n",
        "arr = np.array([1, 2, 3])\n",
        "print(arr)\n",
        "\n",
        "#2차원 배열\n",
        "arr = np.array([[1,2,3],\n",
        "                [4,5,6]])\n",
        "print(arr)"
      ],
      "metadata": {
        "colab": {
          "base_uri": "https://localhost:8080/"
        },
        "id": "xAKrV_jUGd46",
        "outputId": "af5d6783-2cd5-488f-cd40-42eb5af731f6"
      },
      "execution_count": 1,
      "outputs": [
        {
          "output_type": "stream",
          "name": "stdout",
          "text": [
            "[1 2 3]\n",
            "[[1 2 3]\n",
            " [4 5 6]]\n"
          ]
        }
      ]
    },
    {
      "cell_type": "code",
      "source": [
        "#Array의 shape와 차원과 size 알아보기\n",
        "\n",
        "#shape : 배열의 모양과 형태\n",
        "arr1 = np.array([1,2,3])\n",
        "arr2 = np.array([[1,2,3],[4,5,6]])\n",
        "\n",
        "print(arr1.shape, arr2.shape)                                    # 원소가 3개인 1차원 배열 / 2by3모양의 2차원 배열 행이2개이고 열이 3개인 2차원arry\n",
        "\n",
        "#차원 : ndim\n",
        "print(arr1.ndim, arr2.ndim)                                         # 1차원 / 2차원\n",
        "\n",
        "#size\n",
        "print(arr1.size, arr2.size)                                          # 원소3개 / 원소6개"
      ],
      "metadata": {
        "colab": {
          "base_uri": "https://localhost:8080/"
        },
        "id": "N91LZBCmH_-S",
        "outputId": "f20e3660-cdf2-48df-e297-6418292a9c1b"
      },
      "execution_count": null,
      "outputs": [
        {
          "output_type": "stream",
          "name": "stdout",
          "text": [
            "(3,) (2, 3)\n",
            "1 2\n",
            "3 6\n"
          ]
        }
      ]
    },
    {
      "cell_type": "markdown",
      "source": [
        "1-2. N차원 배열의 데이터 타입"
      ],
      "metadata": {
        "id": "7uTd-e7YjafI"
      }
    },
    {
      "cell_type": "code",
      "source": [
        "import numpy as np\n",
        "# 실수형 데이터 타입 적용 (결과 : 원소들에 소수점이 붙음)\n",
        "arr= np.array([1,2,3], dtype=float)\n",
        "print(arr, arr.dtype)\n",
        "\n",
        "#정수형 데이터 타입 적용 (결과 : 소수점 아래가 사라짐)\n",
        "arr= np.array([1.1,2.2,3.3], dtype=int)\n",
        "print(arr, arr.dtype)\n",
        "\n",
        "#bool형 데이터 타입 적용 (결과 : 0은 False, 1은 True)\n",
        "arr = np.array([0,1,1], dtype=bool)\n",
        "print(arr, arr.dtype)\n",
        "\n",
        "#array 데이터 타입 변형(astype 함수 활용) -> 결과 : 0123 int64 데이터타입을 float32로 변형\n",
        "arr = np.array([0,1,2,3])\n",
        "print(arr, arr.dtype)\n",
        "arr = arr.astype(np.float32)\n",
        "print(arr, arr.dtype)\n",
        "\n",
        "#python list같은 경우에는 여러가지 데이터 타입을 넣을수 있다. -> numpy-array에서는 파이썬 리스트와 다르게 단일 데이터 타입만 허용\n",
        "\n",
        "#데이터 타입이 혼합된 경우\n",
        "arr = np.array([1, 2, 3.4]) #(결과 : float형에 맞춰서 데이터들이 출력)\n",
        "print(arr, arr.dtype)\n",
        "\n",
        "arr = np.array([1, 2, 3.4, \"64\"]) #(결과 : 문자형에 맞춰서 데이터들이 출력 / 유니코드 형식으로 출력)\n",
        "print(arr, arr.dtype)\n",
        "\n",
        "arr = np.array([1, 2, 3.4, \"64\"], dtype=int) #(결과 : 정수형에 맞춰서 데이터들이 출력 )\n",
        "print(arr, arr.dtype)\n",
        "\n",
        "arr = np.array([1, 2, 3.4, \"64, 문자열\"], dtype=int) #(결과 : 실 문자가 삽입되어있어 value 에러 발생 )\n",
        "print(arr, arr.dtype)"
      ],
      "metadata": {
        "colab": {
          "base_uri": "https://localhost:8080/",
          "height": 351
        },
        "id": "mHyXthzxjZKt",
        "outputId": "1a821f93-f253-455b-c11d-d9dc737d4a05"
      },
      "execution_count": 6,
      "outputs": [
        {
          "output_type": "stream",
          "name": "stdout",
          "text": [
            "[1. 2. 3.] float64\n",
            "[1 2 3] int64\n",
            "[False  True  True] bool\n",
            "[0 1 2 3] int64\n",
            "[0. 1. 2. 3.] float32\n",
            "[1.  2.  3.4] float64\n",
            "['1' '2' '3.4' '64'] <U32\n",
            "[ 1  2  3 64] int64\n"
          ]
        },
        {
          "output_type": "error",
          "ename": "ValueError",
          "evalue": "invalid literal for int() with base 10: '64, 문자열'",
          "traceback": [
            "\u001b[0;31m---------------------------------------------------------------------------\u001b[0m",
            "\u001b[0;31mValueError\u001b[0m                                Traceback (most recent call last)",
            "\u001b[0;32m<ipython-input-6-6d745f177038>\u001b[0m in \u001b[0;36m<cell line: 32>\u001b[0;34m()\u001b[0m\n\u001b[1;32m     30\u001b[0m \u001b[0mprint\u001b[0m\u001b[0;34m(\u001b[0m\u001b[0marr\u001b[0m\u001b[0;34m,\u001b[0m \u001b[0marr\u001b[0m\u001b[0;34m.\u001b[0m\u001b[0mdtype\u001b[0m\u001b[0;34m)\u001b[0m\u001b[0;34m\u001b[0m\u001b[0;34m\u001b[0m\u001b[0m\n\u001b[1;32m     31\u001b[0m \u001b[0;34m\u001b[0m\u001b[0m\n\u001b[0;32m---> 32\u001b[0;31m \u001b[0marr\u001b[0m \u001b[0;34m=\u001b[0m \u001b[0mnp\u001b[0m\u001b[0;34m.\u001b[0m\u001b[0marray\u001b[0m\u001b[0;34m(\u001b[0m\u001b[0;34m[\u001b[0m\u001b[0;36m1\u001b[0m\u001b[0;34m,\u001b[0m \u001b[0;36m2\u001b[0m\u001b[0;34m,\u001b[0m \u001b[0;36m3.4\u001b[0m\u001b[0;34m,\u001b[0m \u001b[0;34m\"64, 문자열\"\u001b[0m\u001b[0;34m]\u001b[0m\u001b[0;34m,\u001b[0m \u001b[0mdtype\u001b[0m\u001b[0;34m=\u001b[0m\u001b[0mint\u001b[0m\u001b[0;34m)\u001b[0m \u001b[0;31m#(결과 : 실 문자가 삽입되어있어 value 에러 발생 )\u001b[0m\u001b[0;34m\u001b[0m\u001b[0;34m\u001b[0m\u001b[0m\n\u001b[0m\u001b[1;32m     33\u001b[0m \u001b[0mprint\u001b[0m\u001b[0;34m(\u001b[0m\u001b[0marr\u001b[0m\u001b[0;34m,\u001b[0m \u001b[0marr\u001b[0m\u001b[0;34m.\u001b[0m\u001b[0mdtype\u001b[0m\u001b[0;34m)\u001b[0m\u001b[0;34m\u001b[0m\u001b[0;34m\u001b[0m\u001b[0m\n",
            "\u001b[0;31mValueError\u001b[0m: invalid literal for int() with base 10: '64, 문자열'"
          ]
        }
      ]
    },
    {
      "cell_type": "markdown",
      "source": [
        "1-3 정해진 형식의 N차원 배열 생성하기"
      ],
      "metadata": {
        "id": "GsshL3KFnKRU"
      }
    },
    {
      "cell_type": "code",
      "source": [
        "#np.zeros() -> 모든 원소들이 0으로된 배열로 생성\n",
        "arr = np.zeros([2,2]) #[2,2] : 2by2 shape(형태)로 출력\n",
        "print(arr)\n",
        "\n",
        "#np.ones() -> 모든 원소들이 1로된 배열로 생성\n",
        "arr = np.ones([3,5])\n",
        "print(arr)\n",
        "\n",
        "#np.full() -> 모든 원소들이 지정된 Fill value로 이루어진 배열로 생성\n",
        "arr = np.full((2, 3), 5)\n",
        "print(arr)\n",
        "\n",
        "#np.eye() -> 행을 n, 열을 m,이라고 했을 때 n by m Shape을 가진 대각 원소가 1인 행열을 생성\n",
        "arr = np.eye(3, 4, k=0) # 여기서 k는 대각원소 발생지점으로 0이면 첫번째에서 1이면 2번째에서 생성 / -1도 가능\n",
        "print(arr)\n",
        "\n",
        "arr = np.eye(3) # 3by3 정방행렬로 나타남\n",
        "print(arr)"
      ],
      "metadata": {
        "colab": {
          "base_uri": "https://localhost:8080/"
        },
        "id": "W7vMtpQ5nJrY",
        "outputId": "e0aa336d-3dc6-42ba-a7c5-ba9951ea9c78"
      },
      "execution_count": 7,
      "outputs": [
        {
          "output_type": "stream",
          "name": "stdout",
          "text": [
            "[[0. 0.]\n",
            " [0. 0.]]\n",
            "[[1. 1. 1. 1. 1.]\n",
            " [1. 1. 1. 1. 1.]\n",
            " [1. 1. 1. 1. 1.]]\n",
            "[[5 5 5]\n",
            " [5 5 5]]\n",
            "[[1. 0. 0. 0.]\n",
            " [0. 1. 0. 0.]\n",
            " [0. 0. 1. 0.]]\n",
            "[[1. 0. 0.]\n",
            " [0. 1. 0.]\n",
            " [0. 0. 1.]]\n"
          ]
        }
      ]
    },
    {
      "cell_type": "code",
      "source": [
        "#지정된 배열과 동일한 shape을 갖도록 행렬을 만들어 주는 함수\n",
        "arr = np.array([[1,2,3],\n",
        "                [4,5,6]])\n",
        "\n",
        "#np.zeros_like()\n",
        "arr_z = np.zeros_like(arr) #이미 만들어진 arr 배열 사용 (결과 :만들어진 배열과 동일한 shape을 가진 2차원, 원소들이 0인 배열 생성 )\n",
        "print(arr_z)\n",
        "\n",
        "#np.ones_like()\n",
        "arr_o = np.ones_like(arr) #이미 만들어진 arr 배열 사용 (결과 :만들어진 배열과 동일한 shape을 가진 2차원, 원소들이 1인 배열 생성 )\n",
        "print(arr_o)\n",
        "\n",
        "#np.full_like()\n",
        "arr_o = np.full_like(arr, 9) #이미 만들어진 arr 배열 사용, fill value를 9로 지정 (결과 :만들어진 배열과 동일한 shape을 가진 2차원, 원소들이 9인 배열 생성 )\n",
        "print(arr_o)"
      ],
      "metadata": {
        "colab": {
          "base_uri": "https://localhost:8080/"
        },
        "id": "sJeDis9YpFJE",
        "outputId": "14936880-7daa-41dc-e546-ce1e8278b1a5"
      },
      "execution_count": null,
      "outputs": [
        {
          "output_type": "stream",
          "name": "stdout",
          "text": [
            "[[0 0 0]\n",
            " [0 0 0]]\n",
            "[[1 1 1]\n",
            " [1 1 1]]\n",
            "[[9 9 9]\n",
            " [9 9 9]]\n"
          ]
        }
      ]
    },
    {
      "cell_type": "markdown",
      "source": [
        "1-4 특정 범위의 값을 가지는 N차원 배열 생성하기"
      ],
      "metadata": {
        "id": "dR4G9OkXqLeK"
      }
    },
    {
      "cell_type": "code",
      "source": [
        "#Arange\n",
        "\n",
        "arr = np.arange(9) # 0~8까지 원소를 가진 1차원 배열 생성\n",
        "print(arr)\n",
        "arr = np.arange(3, 12) # 3~11까지 원소를 가진 1차원 배열 생성\n",
        "print(arr)\n",
        "\n",
        "arr = np.arange(3, 12, 3) # step값 지정 가능 : 간격을 지정 (결과 : 3부터 3의 간격을 기준으로 원소 출력)\n",
        "print(arr)\n",
        "\n",
        "arr = np.arange(stop=9, step=2, start=0) # (0,9,2) : 0부터 9미만까지 step2를 기준으로 배열 생성\n",
        "print(arr)"
      ],
      "metadata": {
        "colab": {
          "base_uri": "https://localhost:8080/"
        },
        "id": "OSvJGHnhqp5j",
        "outputId": "f3bdf717-7f61-4892-c772-88030cb34c02"
      },
      "execution_count": null,
      "outputs": [
        {
          "output_type": "stream",
          "name": "stdout",
          "text": [
            "[0 1 2 3 4 5 6 7 8]\n",
            "[ 3  4  5  6  7  8  9 10 11]\n",
            "[3 6 9]\n",
            "[0 2 4 6 8]\n"
          ]
        }
      ]
    },
    {
      "cell_type": "code",
      "source": [
        "#np.linspace\n",
        "arr = np.linspace(0, 100, 11) #0~100사이 11개의 원소를 균등한 간격으로 배열 생성\n",
        "print(arr)\n",
        "\n",
        "arr = np.linspace(0, 100, 100) #0~100사이 11개의 원소를 균등한 간격으로 배열 생성\n",
        "print(arr)\n",
        "\n",
        "#arrange vs linspace : stop값의 경우 arrange에선 미만까지 출력, linspace는 이하까지 출력"
      ],
      "metadata": {
        "colab": {
          "base_uri": "https://localhost:8080/"
        },
        "id": "odVgocrAsK1n",
        "outputId": "7ffbc4e6-4e5a-4743-ab16-8e35c4dc701a"
      },
      "execution_count": null,
      "outputs": [
        {
          "output_type": "stream",
          "name": "stdout",
          "text": [
            "[  0.  10.  20.  30.  40.  50.  60.  70.  80.  90. 100.]\n",
            "[  0.           1.01010101   2.02020202   3.03030303   4.04040404\n",
            "   5.05050505   6.06060606   7.07070707   8.08080808   9.09090909\n",
            "  10.1010101   11.11111111  12.12121212  13.13131313  14.14141414\n",
            "  15.15151515  16.16161616  17.17171717  18.18181818  19.19191919\n",
            "  20.2020202   21.21212121  22.22222222  23.23232323  24.24242424\n",
            "  25.25252525  26.26262626  27.27272727  28.28282828  29.29292929\n",
            "  30.3030303   31.31313131  32.32323232  33.33333333  34.34343434\n",
            "  35.35353535  36.36363636  37.37373737  38.38383838  39.39393939\n",
            "  40.4040404   41.41414141  42.42424242  43.43434343  44.44444444\n",
            "  45.45454545  46.46464646  47.47474747  48.48484848  49.49494949\n",
            "  50.50505051  51.51515152  52.52525253  53.53535354  54.54545455\n",
            "  55.55555556  56.56565657  57.57575758  58.58585859  59.5959596\n",
            "  60.60606061  61.61616162  62.62626263  63.63636364  64.64646465\n",
            "  65.65656566  66.66666667  67.67676768  68.68686869  69.6969697\n",
            "  70.70707071  71.71717172  72.72727273  73.73737374  74.74747475\n",
            "  75.75757576  76.76767677  77.77777778  78.78787879  79.7979798\n",
            "  80.80808081  81.81818182  82.82828283  83.83838384  84.84848485\n",
            "  85.85858586  86.86868687  87.87878788  88.88888889  89.8989899\n",
            "  90.90909091  91.91919192  92.92929293  93.93939394  94.94949495\n",
            "  95.95959596  96.96969697  97.97979798  98.98989899 100.        ]\n"
          ]
        }
      ]
    },
    {
      "cell_type": "markdown",
      "source": [
        "1-5난수로 이루어진 N차원 배열 생성하기\n"
      ],
      "metadata": {
        "id": "oH3phf6luuuZ"
      }
    },
    {
      "cell_type": "code",
      "source": [
        "#랜덤 값, 난수를 기반으로 n차원 배열 생성\n",
        "\n",
        "#데이터를 시각화해서 보여줄 수 있는 python Matplotlib 라이브러리 호출\n",
        "#Matplotlib에서 plot함수와hist함수를 사용해서 데이터들을 시각화해 보면 분포를 더 쉽고 한눈에 알아볼 수 있음\n",
        "#numpy에는 난수를 만들어 배열을 생성할 수 있게 해주는 랜덤 모듈이 존재\n",
        "\n",
        "import matplotlib.pyplot as plt\n",
        "#np.random.normal() -> 정규분포(가우시안 분포)를 따른 난수를 생성하는 함수\n",
        "\n",
        "#arr = np.random.normal(loc, scale, size)\n",
        "arr = np.random.normal(0, 1, 10)\n",
        "print(arr) # 평균값이 0이고 표준편차가 1인 10개의 난수출력\n",
        "\n",
        "arr = np.random.normal(0, 1, (2,3))\n",
        "print(arr) # 평균값이 0이고 표준편차가 1인 2by3 난수로 이루어진 행렬 출력"
      ],
      "metadata": {
        "colab": {
          "base_uri": "https://localhost:8080/"
        },
        "id": "LLtL29PUtNLN",
        "outputId": "a8377fa2-ed69-41b5-e378-e7113e5f81af"
      },
      "execution_count": 8,
      "outputs": [
        {
          "output_type": "stream",
          "name": "stdout",
          "text": [
            "[-0.35608202 -1.35186105 -0.93126071  0.61818708 -0.31385369 -0.17697753\n",
            " -0.43260901 -0.84656334 -0.4363612  -2.17925082]\n",
            "[[-1.21790216 -0.59063092 -0.7125224 ]\n",
            " [ 1.55863898  0.32479124  0.85132259]]\n"
          ]
        }
      ]
    },
    {
      "cell_type": "code",
      "source": [
        "import matplotlib.pyplot as plt\n",
        "arr = np.random.normal(0, 1, 100000)\n",
        "plt.hist(arr, bins=100) #bins라는 값은 난수를 몇개의 구간으로 구분을 해서 보여줄지 지정\n",
        "plt.show()\n",
        "#100000개의 난수가 100개의 구간을 기준으로 구분해서 보여줌"
      ],
      "metadata": {
        "colab": {
          "base_uri": "https://localhost:8080/",
          "height": 430
        },
        "id": "SHuq5Kx98I16",
        "outputId": "57ce0e0e-7738-43ef-e41c-0ea5d5715b8e"
      },
      "execution_count": 10,
      "outputs": [
        {
          "output_type": "display_data",
          "data": {
            "text/plain": [
              "<Figure size 640x480 with 1 Axes>"
            ],
            "image/png": "[encoded data removed]"
          },
          "metadata": {}
        }
      ]
    },
    {
      "cell_type": "code",
      "source": [
        "#np.random.rand()\n",
        "#랜드 함수는 0에서 1 사이의 값을 균등한 비율로 표본을 추출하는 함수\n",
        "arr = np.random.rand(1000000)\n",
        "plt.hist(arr, bins=100)\n",
        "plt.show()\n",
        "\n",
        "#난수들이 균등한 비율로 분포하는 것을 볼 수 잇음\n"
      ],
      "metadata": {
        "colab": {
          "base_uri": "https://localhost:8080/",
          "height": 430
        },
        "id": "xbpISDZ38sUa",
        "outputId": "cd39d5a9-83a4-4fd9-cfa8-439a37c9e74b"
      },
      "execution_count": 16,
      "outputs": [
        {
          "output_type": "display_data",
          "data": {
            "text/plain": [
              "<Figure size 640x480 with 1 Axes>"
            ],
            "image/png": "[encoded data removed]"
          },
          "metadata": {}
        }
      ]
    },
    {
      "cell_type": "code",
      "source": [
        "#np.random.randint() -> 랜덤한 정수만 출력하는 함수\n",
        "#로우값부터 하이값 미만까지 사이즈의 수대로 배열 생성\n",
        "arr = np.random.randint(low=1, high=5, size=10)\n",
        "print(arr)\n",
        "\n",
        "#로우값부터 하이값 미만까지 사이즈의 수대로 배열 생성\n",
        "arr = np.random.randint(low=1, high=5, size=(3,4))\n",
        "print(arr)\n",
        "\n",
        "#값을 하나만 넣게되면 high값으로 인식을 해서 0부터 5까지 값중 하나의 정수를 반환\n",
        "arr = np.random.randint(5)\n",
        "print(arr)"
      ],
      "metadata": {
        "colab": {
          "base_uri": "https://localhost:8080/"
        },
        "id": "gP03JNT89aon",
        "outputId": "6680af76-f69c-4698-968c-f72492a79f3a"
      },
      "execution_count": 19,
      "outputs": [
        {
          "output_type": "stream",
          "name": "stdout",
          "text": [
            "[1 1 4 3 4 2 3 3 1 1]\n",
            "[[1 1 4 3]\n",
            " [4 3 4 4]\n",
            " [3 1 4 4]]\n",
            "0\n"
          ]
        }
      ]
    },
    {
      "cell_type": "code",
      "source": [
        "#np.random.randint() : 랜덤 정수만 출력하는 함수\n",
        "arr = np.random.randint(100, 200, 1000) # (low, high, size)\n",
        "plt.hist(arr, bins=100)\n",
        "plt.show()"
      ],
      "metadata": {
        "colab": {
          "base_uri": "https://localhost:8080/",
          "height": 430
        },
        "id": "0UgGqHxb-WJV",
        "outputId": "1ddc1683-70d2-43e0-8526-f42e9239f6de"
      },
      "execution_count": null,
      "outputs": [
        {
          "output_type": "display_data",
          "data": {
            "text/plain": [
              "<Figure size 640x480 with 1 Axes>"
            ],
            "image/png": "[encoded data removed]"
          },
          "metadata": {}
        }
      ]
    },
    {
      "cell_type": "code",
      "source": [
        "#rand() : 균등한 분포로 출력\n",
        "#randn() : 정규분포로 출력\n",
        "#randint() : 정수를 출력\n"
      ],
      "metadata": {
        "id": "W3Z5kWv1-g0D"
      },
      "execution_count": null,
      "outputs": []
    }
  ]
}