{
  "cells": [
    {
      "cell_type": "code",
      "execution_count": null,
      "metadata": {
        "id": "MzTaoNmJCm1J"
      },
      "outputs": [],
      "source": [
        "import numpy as np\n"
      ]
    },
    {
      "cell_type": "markdown",
      "metadata": {
        "id": "eX19SOr5GSh9"
      },
      "source": [
        "Section1. N차원 배열 생성"
      ]
    },
    {
      "cell_type": "markdown",
      "metadata": {
        "id": "xoHEp-cAGZad"
      },
      "source": [
        "1-1. N차원 배열(ndarray)생성하기"
      ]
    },
    {
      "cell_type": "code",
      "execution_count": null,
      "metadata": {
        "colab": {
          "base_uri": "https://localhost:8080/"
        },
        "id": "xAKrV_jUGd46",
        "outputId": "af5d6783-2cd5-488f-cd40-42eb5af731f6"
      },
      "outputs": [],
      "source": [
        "import numpy as np\n",
        "#1차원 배열\n",
        "arr = np.array([1, 2, 3])\n",
        "print(arr)\n",
        "\n",
        "#2차원 배열\n",
        "arr = np.array([[1,2,3],\n",
        "                [4,5,6]])\n",
        "print(arr)"
      ]
    },
    {
      "cell_type": "code",
      "execution_count": null,
      "metadata": {
        "colab": {
          "base_uri": "https://localhost:8080/"
        },
        "id": "N91LZBCmH_-S",
        "outputId": "f20e3660-cdf2-48df-e297-6418292a9c1b"
      },
      "outputs": [],
      "source": [
        "#Array의 shape와 차원과 size 알아보기\n",
        "\n",
        "#shape : 배열의 모양과 형태\n",
        "arr1 = np.array([1,2,3])\n",
        "arr2 = np.array([[1,2,3],[4,5,6]])\n",
        "\n",
        "print(arr1.shape, arr2.shape)                                    # 원소가 3개인 1차원 배열 / 2by3모양의 2차원 배열 행이2개이고 열이 3개인 2차원arry\n",
        "\n",
        "#차원 : ndim\n",
        "print(arr1.ndim, arr2.ndim)                                         # 1차원 / 2차원\n",
        "\n",
        "#size\n",
        "print(arr1.size, arr2.size)                                          # 원소3개 / 원소6개"
      ]
    },
    {
      "cell_type": "markdown",
      "metadata": {
        "id": "7uTd-e7YjafI"
      },
      "source": [
        "1-2. N차원 배열의 데이터 타입"
      ]
    },
    {
      "cell_type": "code",
      "execution_count": null,
      "metadata": {
        "colab": {
          "base_uri": "https://localhost:8080/",
          "height": 351
        },
        "id": "mHyXthzxjZKt",
        "outputId": "1a821f93-f253-455b-c11d-d9dc737d4a05"
      },
      "outputs": [],
      "source": [
        "import numpy as np\n",
        "# 실수형 데이터 타입 적용 (결과 : 원소들에 소수점이 붙음)\n",
        "arr= np.array([1,2,3], dtype=float)\n",
        "print(arr, arr.dtype)\n",
        "\n",
        "#정수형 데이터 타입 적용 (결과 : 소수점 아래가 사라짐)\n",
        "arr= np.array([1.1,2.2,3.3], dtype=int)\n",
        "print(arr, arr.dtype)\n",
        "\n",
        "#bool형 데이터 타입 적용 (결과 : 0은 False, 1은 True)\n",
        "arr = np.array([0,1,1], dtype=bool)\n",
        "print(arr, arr.dtype)\n",
        "\n",
        "#array 데이터 타입 변형(astype 함수 활용) -> 결과 : 0123 int64 데이터타입을 float32로 변형\n",
        "arr = np.array([0,1,2,3])\n",
        "print(arr, arr.dtype)\n",
        "arr = arr.astype(np.float32)\n",
        "print(arr, arr.dtype)\n",
        "\n",
        "#python list같은 경우에는 여러가지 데이터 타입을 넣을수 있다. -> numpy-array에서는 파이썬 리스트와 다르게 단일 데이터 타입만 허용\n",
        "\n",
        "#데이터 타입이 혼합된 경우\n",
        "arr = np.array([1, 2, 3.4]) #(결과 : float형에 맞춰서 데이터들이 출력)\n",
        "print(arr, arr.dtype)\n",
        "\n",
        "arr = np.array([1, 2, 3.4, \"64\"]) #(결과 : 문자형에 맞춰서 데이터들이 출력 / 유니코드 형식으로 출력)\n",
        "print(arr, arr.dtype)\n",
        "\n",
        "arr = np.array([1, 2, 3.4, \"64\"], dtype=int) #(결과 : 정수형에 맞춰서 데이터들이 출력 )\n",
        "print(arr, arr.dtype)\n",
        "\n",
        "# arr = np.array([1, 2, 3.4, \"64, 문자열\"], dtype=int) #(결과 : 실 문자가 삽입되어있어 value 에러 발생 )\n",
        "print(arr, arr.dtype)"
      ]
    },
    {
      "cell_type": "markdown",
      "metadata": {
        "id": "GsshL3KFnKRU"
      },
      "source": [
        "1-3 정해진 형식의 N차원 배열 생성하기"
      ]
    },
    {
      "cell_type": "code",
      "execution_count": null,
      "metadata": {
        "colab": {
          "base_uri": "https://localhost:8080/"
        },
        "id": "W7vMtpQ5nJrY",
        "outputId": "e0aa336d-3dc6-42ba-a7c5-ba9951ea9c78"
      },
      "outputs": [],
      "source": [
        "#np.zeros() -> 모든 원소들이 0으로된 배열로 생성\n",
        "arr = np.zeros([2,2]) #[2,2] : 2by2 shape(형태)로 출력\n",
        "print(arr)\n",
        "\n",
        "#np.ones() -> 모든 원소들이 1로된 배열로 생성\n",
        "arr = np.ones([3,5])\n",
        "print(arr)\n",
        "\n",
        "#np.full() -> 모든 원소들이 지정된 Fill value로 이루어진 배열로 생성\n",
        "arr = np.full((2, 3), 5)\n",
        "print(arr)\n",
        "\n",
        "#np.eye() -> 행을 n, 열을 m,이라고 했을 때 n by m Shape을 가진 대각 원소가 1인 행열을 생성\n",
        "arr = np.eye(3, 4, k=0) # 여기서 k는 대각원소 발생지점으로 0이면 첫번째에서 1이면 2번째에서 생성 / -1도 가능\n",
        "print(arr)\n",
        "\n",
        "arr = np.eye(3) # 3by3 정방행렬로 나타남\n",
        "print(arr)"
      ]
    },
    {
      "cell_type": "code",
      "execution_count": null,
      "metadata": {
        "colab": {
          "base_uri": "https://localhost:8080/"
        },
        "id": "sJeDis9YpFJE",
        "outputId": "14936880-7daa-41dc-e546-ce1e8278b1a5"
      },
      "outputs": [],
      "source": [
        "#지정된 배열과 동일한 shape을 갖도록 행렬을 만들어 주는 함수\n",
        "arr = np.array([[1,2,3],\n",
        "                [4,5,6]])\n",
        "\n",
        "#np.zeros_like()\n",
        "arr_z = np.zeros_like(arr) #이미 만들어진 arr 배열 사용 (결과 :만들어진 배열과 동일한 shape을 가진 2차원, 원소들이 0인 배열 생성 )\n",
        "print(arr_z)\n",
        "\n",
        "#np.ones_like()\n",
        "arr_o = np.ones_like(arr) #이미 만들어진 arr 배열 사용 (결과 :만들어진 배열과 동일한 shape을 가진 2차원, 원소들이 1인 배열 생성 )\n",
        "print(arr_o)\n",
        "\n",
        "#np.full_like()\n",
        "arr_o = np.full_like(arr, 9) #이미 만들어진 arr 배열 사용, fill value를 9로 지정 (결과 :만들어진 배열과 동일한 shape을 가진 2차원, 원소들이 9인 배열 생성 )\n",
        "print(arr_o)"
      ]
    },
    {
      "cell_type": "markdown",
      "metadata": {
        "id": "dR4G9OkXqLeK"
      },
      "source": [
        "1-4 특정 범위의 값을 가지는 N차원 배열 생성하기"
      ]
    },
    {
      "cell_type": "code",
      "execution_count": null,
      "metadata": {
        "colab": {
          "base_uri": "https://localhost:8080/"
        },
        "id": "OSvJGHnhqp5j",
        "outputId": "f3bdf717-7f61-4892-c772-88030cb34c02"
      },
      "outputs": [],
      "source": [
        "#Arange\n",
        "\n",
        "arr = np.arange(9) # 0~8까지 원소를 가진 1차원 배열 생성\n",
        "print(arr)\n",
        "arr = np.arange(3, 12) # 3~11까지 원소를 가진 1차원 배열 생성\n",
        "print(arr)\n",
        "\n",
        "arr = np.arange(3, 12, 3) # step값 지정 가능 : 간격을 지정 (결과 : 3부터 3의 간격을 기준으로 원소 출력)\n",
        "print(arr)\n",
        "\n",
        "arr = np.arange(stop=9, step=2, start=0) # (0,9,2) : 0부터 9미만까지 step2를 기준으로 배열 생성\n",
        "print(arr)"
      ]
    },
    {
      "cell_type": "code",
      "execution_count": null,
      "metadata": {
        "colab": {
          "base_uri": "https://localhost:8080/"
        },
        "id": "odVgocrAsK1n",
        "outputId": "7ffbc4e6-4e5a-4743-ab16-8e35c4dc701a"
      },
      "outputs": [],
      "source": [
        "#np.linspace\n",
        "arr = np.linspace(0, 100, 11) #0~100사이 11개의 원소를 균등한 간격으로 배열 생성\n",
        "print(arr)\n",
        "\n",
        "arr = np.linspace(0, 100, 100) #0~100사이 11개의 원소를 균등한 간격으로 배열 생성\n",
        "print(arr)\n",
        "\n",
        "#arrange vs linspace : stop값의 경우 arrange에선 미만까지 출력, linspace는 이하까지 출력"
      ]
    },
    {
      "cell_type": "markdown",
      "metadata": {
        "id": "oH3phf6luuuZ"
      },
      "source": [
        "1-5난수로 이루어진 N차원 배열 생성하기\n"
      ]
    },
    {
      "cell_type": "code",
      "execution_count": null,
      "metadata": {
        "colab": {
          "base_uri": "https://localhost:8080/"
        },
        "id": "LLtL29PUtNLN",
        "outputId": "a8377fa2-ed69-41b5-e378-e7113e5f81af"
      },
      "outputs": [],
      "source": [
        "#랜덤 값, 난수를 기반으로 n차원 배열 생성\n",
        "\n",
        "#데이터를 시각화해서 보여줄 수 있는 python Matplotlib 라이브러리 호출\n",
        "#Matplotlib에서 plot함수와hist함수를 사용해서 데이터들을 시각화해 보면 분포를 더 쉽고 한눈에 알아볼 수 있음\n",
        "#numpy에는 난수를 만들어 배열을 생성할 수 있게 해주는 랜덤 모듈이 존재\n",
        "\n",
        "import matplotlib.pyplot as plt\n",
        "#np.random.normal() -> 정규분포(가우시안 분포)를 따른 난수를 생성하는 함수\n",
        "\n",
        "#arr = np.random.normal(loc, scale, size)\n",
        "arr = np.random.normal(0, 1, 10)\n",
        "print(arr) # 평균값이 0이고 표준편차가 1인 10개의 난수출력\n",
        "\n",
        "arr = np.random.normal(0, 1, (2,3))\n",
        "print(arr) # 평균값이 0이고 표준편차가 1인 2by3 난수로 이루어진 행렬 출력"
      ]
    },
    {
      "cell_type": "code",
      "execution_count": null,
      "metadata": {
        "colab": {
          "base_uri": "https://localhost:8080/",
          "height": 430
        },
        "id": "SHuq5Kx98I16",
        "outputId": "57ce0e0e-7738-43ef-e41c-0ea5d5715b8e"
      },
      "outputs": [],
      "source": [
        "import matplotlib.pyplot as plt\n",
        "arr = np.random.normal(0, 1, 100000)\n",
        "plt.hist(arr, bins=100) #bins라는 값은 난수를 몇개의 구간으로 구분을 해서 보여줄지 지정\n",
        "plt.show()\n",
        "#100000개의 난수가 100개의 구간을 기준으로 구분해서 보여줌"
      ]
    },
    {
      "cell_type": "code",
      "execution_count": null,
      "metadata": {
        "colab": {
          "base_uri": "https://localhost:8080/",
          "height": 430
        },
        "id": "xbpISDZ38sUa",
        "outputId": "cd39d5a9-83a4-4fd9-cfa8-439a37c9e74b"
      },
      "outputs": [],
      "source": [
        "#np.random.rand()\n",
        "#랜드 함수는 0에서 1 사이의 값을 균등한 비율로 표본을 추출하는 함수\n",
        "arr = np.random.rand(1000000)\n",
        "plt.hist(arr, bins=100)\n",
        "plt.show()\n",
        "\n",
        "#난수들이 균등한 비율로 분포하는 것을 볼 수 잇음\n"
      ]
    },
    {
      "cell_type": "code",
      "execution_count": null,
      "metadata": {
        "colab": {
          "base_uri": "https://localhost:8080/"
        },
        "id": "gP03JNT89aon",
        "outputId": "6680af76-f69c-4698-968c-f72492a79f3a"
      },
      "outputs": [],
      "source": [
        "#np.random.randint() -> 랜덤한 정수만 출력하는 함수\n",
        "#로우값부터 하이값 미만까지 사이즈의 수대로 배열 생성\n",
        "arr = np.random.randint(low=1, high=5, size=10)\n",
        "print(arr)\n",
        "\n",
        "#로우값부터 하이값 미만까지 사이즈의 수대로 배열 생성\n",
        "arr = np.random.randint(low=1, high=5, size=(3,4))\n",
        "print(arr)\n",
        "\n",
        "#값을 하나만 넣게되면 high값으로 인식을 해서 0부터 5까지 값중 하나의 정수를 반환\n",
        "arr = np.random.randint(5)\n",
        "print(arr)"
      ]
    },
    {
      "cell_type": "code",
      "execution_count": null,
      "metadata": {
        "colab": {
          "base_uri": "https://localhost:8080/",
          "height": 430
        },
        "id": "0UgGqHxb-WJV",
        "outputId": "1ddc1683-70d2-43e0-8526-f42e9239f6de"
      },
      "outputs": [],
      "source": [
        "#np.random.randint() : 랜덤 정수만 출력하는 함수\n",
        "arr = np.random.randint(100, 200, 1000) # (low, high, size)\n",
        "plt.hist(arr, bins=100)\n",
        "plt.show()"
      ]
    },
    {
      "cell_type": "code",
      "execution_count": null,
      "metadata": {
        "id": "W3Z5kWv1-g0D"
      },
      "outputs": [],
      "source": [
        "#rand() : 균등한 분포로 출력\n",
        "#randn() : 정규분포로 출력\n",
        "#randint() : 정수를 출력\n"
      ]
    }
  ],
  "metadata": {
    "colab": {
      "provenance": []
    },
    "kernelspec": {
      "display_name": "Python 3",
      "name": "python3"
    },
    "language_info": {
      "name": "python"
    }
  },
  "nbformat": 4,
  "nbformat_minor": 0
}
