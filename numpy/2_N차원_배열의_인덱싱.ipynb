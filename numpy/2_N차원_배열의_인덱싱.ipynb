{
  "cells": [
    {
      "cell_type": "markdown",
      "metadata": {
        "id": "fnV0uneSAAWA"
      },
      "source": [
        "###N차원 배열의 인덱싱\n",
        "\n"
      ]
    },
    {
      "cell_type": "markdown",
      "metadata": {
        "id": "wfQ-mHDlJynt"
      },
      "source": [
        "2-1 배열의 index 접근하기"
      ]
    },
    {
      "cell_type": "code",
      "execution_count": null,
      "metadata": {
        "colab": {
          "base_uri": "https://localhost:8080/"
        },
        "id": "6UO7_1YSJqyL",
        "outputId": "43a48c62-39a3-410a-befd-a6fdfee31f58"
      },
      "outputs": [],
      "source": [
        "import numpy as np\n",
        "#인덱스에 접근한다 : 배열의 몇 번째 원소의 값이 무엇인지 혹은 특정 범위의 값들이 어떤것들이 있는지 탐색하는 과정\n",
        "\n",
        "#1차원 배열\n",
        "arr= np.arange(10)\n",
        "print(arr)\n",
        "\n",
        "print(arr[3]) # 값이 3이기 때문에 3이 출력 / 컴퓨터 프로그램에서 index는 0부터 시작\n",
        "print(arr[1])#1출력\n",
        "#print(arr[10]) -> 10번째 인덱스는 존재하지 않기 때문에 에러가 발생\n",
        "print(arr[-1]) # 뒤로 돌아가서 9가 출력\n",
        "print(arr[-3]) #7출력\n",
        "print(arr[-10])#0 출력\n"
      ]
    },
    {
      "cell_type": "code",
      "execution_count": null,
      "metadata": {
        "colab": {
          "base_uri": "https://localhost:8080/"
        },
        "id": "p6cvXkUbBQ4o",
        "outputId": "15f91a73-f5e5-4151-9c05-f891727d3fef"
      },
      "outputs": [],
      "source": [
        "#2차원 배열\n",
        "arr = np.array([[1,2,3,4],\n",
        "                [5,6,7,8],\n",
        "                [9,10,11,12]])\n",
        "print(arr, arr.shape, arr.ndim) # 3by4 2차원 행렬\n",
        "\n",
        "print(arr[0]) #행에 대한 인덱스값만 넣었기 떄문에 첫번째 행 전체가 출력\n",
        "print(arr[0][3])#0번쨰 행에서 3번째 열에 해당하는 값 출력 :4\n",
        "print(arr[0,3]) #0번쨰 행에서 3번째 열에 해당하는 값 출력 :4\n",
        "\n"
      ]
    },
    {
      "cell_type": "code",
      "execution_count": null,
      "metadata": {
        "colab": {
          "base_uri": "https://localhost:8080/"
        },
        "id": "zj-ksZ9KCCfr",
        "outputId": "32a983d4-e1b1-4da1-ef99-25be50c4bc11"
      },
      "outputs": [],
      "source": [
        "#특정 행 출력\n",
        "arr = np.arange(10)\n",
        "print(arr[3:8]) #3부터 8미만까지 출력\n",
        "print(arr[3:]) #3부터 끝까지 출력\n",
        "print(arr[:7]) #처음부터 7번째까지\n",
        "print(arr[:-1]) #0부터 8까지 출력"
      ]
    },
    {
      "cell_type": "code",
      "execution_count": null,
      "metadata": {
        "colab": {
          "base_uri": "https://localhost:8080/"
        },
        "id": "V2tnL7BuCyeT",
        "outputId": "0703b79c-e9b9-468b-e895-7976e17d3817"
      },
      "outputs": [],
      "source": [
        "#2차원 특정행 모두 출력\n",
        "arr = np.array([[1,2,3,4],\n",
        "                [5,6,7,8],\n",
        "                [9,10,11,12]])\n",
        "\n",
        "#0번째행 모든 원소 출력\n",
        "print(arr[0, :])\n",
        "#모든 행은 2번째 열 출력\n",
        "print(arr[:, 1])\n",
        "#0부터 3미만 행, 모든열\n",
        "print(arr[:3, :])\n",
        "#0부터 2미만의 행, 2번째 열부터 마지막 열\n",
        "print(arr[:2, 2:])"
      ]
    },
    {
      "cell_type": "markdown",
      "metadata": {
        "id": "WufpEXpSD7cR"
      },
      "source": [
        "2-2 배열의 Fancy 인덱싱\n"
      ]
    },
    {
      "cell_type": "code",
      "execution_count": null,
      "metadata": {
        "colab": {
          "base_uri": "https://localhost:8080/"
        },
        "id": "YT7O3b13DRtT",
        "outputId": "c0bbe8c3-3af8-43e8-a68e-c2068746951c"
      },
      "outputs": [],
      "source": [
        "#fancy indexing : 특정 인덱스를 여러개를 선택해서 탐색하는 방법\n",
        "\n",
        "#1차원 배열\n",
        "arr = np.array([5, 10, 15, 20, 25, 30])\n",
        "print(arr[[0,2,4]]) # 0번째, 2번째, 4번째 원소를 가져오겠다라는 뜻\n",
        "\n"
      ]
    },
    {
      "cell_type": "code",
      "execution_count": null,
      "metadata": {
        "colab": {
          "base_uri": "https://localhost:8080/"
        },
        "id": "uEksuq3jHNu0",
        "outputId": "d44d5890-6d9f-41cc-90e6-0db8f134350b"
      },
      "outputs": [],
      "source": [
        "#1차원 배열\n",
        "arr = np.array([5, 10, 15, 20, 25, 30])\n",
        "# 0번째, 2번째, 4번째 원소 출력\n",
        "print(arr[[0,2,4]])\n",
        "\n",
        "#2차원 배열\n",
        "arr = np.array([[5, 10, 15, 20],\n",
        "                [25, 30, 35, 40],\n",
        "                [45, 50, 55, 60]])\n",
        "#0~2행, 2열부터 모든열\n",
        "print(arr[[0, 2], 2:])\n",
        "#1행부터 모든행, 2~3열\n",
        "print(arr[1:, [2,3]])"
      ]
    },
    {
      "cell_type": "markdown",
      "metadata": {
        "id": "2AgPvW62H0wE"
      },
      "source": [
        "2-3 Boolean 인덱싱"
      ]
    },
    {
      "cell_type": "code",
      "execution_count": null,
      "metadata": {
        "colab": {
          "base_uri": "https://localhost:8080/"
        },
        "id": "N7Q-rn1UH5oX",
        "outputId": "0130add1-b755-4b69-d299-95aace060461"
      },
      "outputs": [],
      "source": [
        "#True, False값을 이용해서 배열 탐색\n",
        "\n",
        "arr= np. array([1, 2, 3, 4])\n",
        "print(arr[[True, False, True, True]]) #True값은 가져오고 False값은 가져오지 않음\n",
        "\n",
        "arr = np.array([[1,2,3,4],\n",
        "                [5,6,7,8]])\n",
        "print(arr[[True, False], True]) #1행은 가져오지 않고 0행만 가져옴, 열부분은 전부 가져옴"
      ]
    },
    {
      "cell_type": "code",
      "execution_count": null,
      "metadata": {
        "colab": {
          "base_uri": "https://localhost:8080/"
        },
        "id": "FrSIr-ttIbyX",
        "outputId": "d87a9158-b5c2-4b82-fd36-3b2bda82b6f0"
      },
      "outputs": [],
      "source": [
        "arr = np.array([[1,2,3,4],\n",
        "                [5,6,7,8]])\n",
        "print(arr[arr > 4]) #조건연산자를 통해 출력\n",
        "print(arr[arr <= 2])"
      ]
    }
  ],
  "metadata": {
    "colab": {
      "provenance": []
    },
    "kernelspec": {
      "display_name": "Python 3",
      "name": "python3"
    },
    "language_info": {
      "name": "python"
    }
  },
  "nbformat": 4,
  "nbformat_minor": 0
}
