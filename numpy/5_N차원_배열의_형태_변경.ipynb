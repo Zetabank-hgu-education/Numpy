{
  "nbformat": 4,
  "nbformat_minor": 0,
  "metadata": {
    "colab": {
      "provenance": []
    },
    "kernelspec": {
      "name": "python3",
      "display_name": "Python 3"
    },
    "language_info": {
      "name": "python"
    }
  },
  "cells": [
    {
      "cell_type": "markdown",
      "source": [
        "5-1. 배열의 형태 변경1 : reshape()"
      ],
      "metadata": {
        "id": "cdsnspYPOo_a"
      }
    },
    {
      "cell_type": "code",
      "execution_count": null,
      "metadata": {
        "colab": {
          "base_uri": "https://localhost:8080/"
        },
        "id": "cy3x7zTZOlO9",
        "outputId": "fe5cd31c-0de1-4a87-d7ba-2c07dffd7753"
      },
      "outputs": [
        {
          "output_type": "stream",
          "name": "stdout",
          "text": [
            "[ 0  1  2  3  4  5  6  7  8  9 10 11] 1\n",
            "[[ 0  1  2  3]\n",
            " [ 4  5  6  7]\n",
            " [ 8  9 10 11]] 2\n",
            "[[[ 0  1]\n",
            "  [ 2  3]\n",
            "  [ 4  5]]\n",
            "\n",
            " [[ 6  7]\n",
            "  [ 8  9]\n",
            "  [10 11]]] 3\n",
            "[[[[ 0  1  2]]\n",
            "\n",
            "  [[ 3  4  5]]]\n",
            "\n",
            "\n",
            " [[[ 6  7  8]]\n",
            "\n",
            "  [[ 9 10 11]]]] 4\n"
          ]
        }
      ],
      "source": [
        "import numpy as np\n",
        "#reshape() : 배열의 모양을 변경할 수 있는 함수\n",
        "\n",
        "arr = np.arange(12)\n",
        "print(arr, arr.ndim) #1차원 배열로 출력\n",
        "\n",
        "arr = arr.reshape((3,4)) # 12개 원소 갯수는 맞아야함\n",
        "print(arr, arr.ndim)\n",
        "#arr = arr.reshape((2,3)) # 원소 갯수가 맞지 않아 size 안맞는 오류가 뜸\n",
        "\n",
        "arr = arr.reshape((2,3,2)) #3차원 행렬로 변환 (텐서)\n",
        "print(arr, arr.ndim)\n",
        "\n",
        "arr = arr.reshape((2,2,1,3)) #4차원 행렬로 변환\n",
        "print(arr, arr.ndim)"
      ]
    },
    {
      "cell_type": "code",
      "source": [
        "arr = np.arange(1, 13)\n",
        "print(arr)\n",
        "\n",
        "# 1차원 -> 2차원 배열\n",
        "arr = arr.reshape(3, -1)\n",
        "\n",
        "# 자동으로 3by4행렬로 출력\n",
        "print(arr) #"
      ],
      "metadata": {
        "colab": {
          "base_uri": "https://localhost:8080/"
        },
        "id": "YgPvT8nadDTS",
        "outputId": "2033788e-a448-4920-ec0d-83c59456ec5d"
      },
      "execution_count": null,
      "outputs": [
        {
          "output_type": "stream",
          "name": "stdout",
          "text": [
            "[ 1  2  3  4  5  6  7  8  9 10 11 12]\n",
            "[[ 1  2  3  4]\n",
            " [ 5  6  7  8]\n",
            " [ 9 10 11 12]]\n"
          ]
        }
      ]
    },
    {
      "cell_type": "code",
      "source": [
        "#차원을 증가시켜 reshape 할때 짚고 넘어가야할 문제\n",
        "\n",
        "#Curse Of Dimensionality : 차원의 저주\n",
        "\n",
        "#빅 데이터를 다루거나 딥러닝에서 발행하는 에러 : 차원이 증가하면서 학습 데이터 수가 차원의 수보다 적어지면서 모델의성능이 저하되는 현상\n",
        "\n"
      ],
      "metadata": {
        "id": "aX5aJA7FTKfU"
      },
      "execution_count": null,
      "outputs": []
    },
    {
      "cell_type": "markdown",
      "source": [
        " 5-2 배열의 형태 변경2 : resize(), ravel()"
      ],
      "metadata": {
        "id": "ZbejTCmTVYI0"
      }
    },
    {
      "cell_type": "code",
      "source": [
        "import numpy as np\n",
        "\n",
        "arr = np.arange(12)\n",
        "print(arr)\n",
        "\n",
        "#resize : reshape함수와 동일, 원본 데이터를 변경\n",
        "arr.resize(3,4)\n",
        "print(arr)\n",
        "\n",
        "#ravel : 1차원 배열로 다시 변경\n",
        "arr = arr.ravel()\n",
        "print(arr)"
      ],
      "metadata": {
        "colab": {
          "base_uri": "https://localhost:8080/"
        },
        "id": "H3GZQf2FVdZz",
        "outputId": "cd69fab5-8438-43f5-ac48-ab6fe09a638f"
      },
      "execution_count": null,
      "outputs": [
        {
          "output_type": "stream",
          "name": "stdout",
          "text": [
            "[ 0  1  2  3  4  5  6  7  8  9 10 11]\n",
            "[[ 0  1  2  3]\n",
            " [ 4  5  6  7]\n",
            " [ 8  9 10 11]]\n",
            "[ 0  1  2  3  4  5  6  7  8  9 10 11]\n"
          ]
        }
      ]
    },
    {
      "cell_type": "markdown",
      "source": [
        "5-3 전치행렬\n"
      ],
      "metadata": {
        "id": "UlKRDd4CZr52"
      }
    },
    {
      "cell_type": "code",
      "source": [
        "#np.transpose(arr)\n",
        "arr = np.array([[1,2],\n",
        "                [3,4]])\n",
        "print(arr.T)\n",
        "\n",
        "arr = np.array([[1,2,3],\n",
        "                [4,5,6],\n",
        "                [7,8,9]])\n",
        "print(arr.T)\n",
        "\n",
        "arr = np.array([[1,2],\n",
        "                [3,4],\n",
        "                [5,6]])\n",
        "print(arr.T)"
      ],
      "metadata": {
        "colab": {
          "base_uri": "https://localhost:8080/"
        },
        "id": "aZKDGz7AZu3E",
        "outputId": "6f868a1b-e2e5-4491-f548-ab08d7410470"
      },
      "execution_count": null,
      "outputs": [
        {
          "output_type": "stream",
          "name": "stdout",
          "text": [
            "[[1 3]\n",
            " [2 4]]\n",
            "[[1 4 7]\n",
            " [2 5 8]\n",
            " [3 6 9]]\n",
            "[[1 3 5]\n",
            " [2 4 6]]\n"
          ]
        }
      ]
    }
  ]
}