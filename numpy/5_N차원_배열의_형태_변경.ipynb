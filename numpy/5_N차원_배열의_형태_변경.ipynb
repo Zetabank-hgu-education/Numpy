{
  "cells": [
    {
      "cell_type": "markdown",
      "metadata": {
        "id": "cdsnspYPOo_a"
      },
      "source": [
        "5-1. 배열의 형태 변경1 : reshape()"
      ]
    },
    {
      "cell_type": "code",
      "execution_count": null,
      "metadata": {
        "colab": {
          "base_uri": "https://localhost:8080/"
        },
        "id": "cy3x7zTZOlO9",
        "outputId": "fe5cd31c-0de1-4a87-d7ba-2c07dffd7753"
      },
      "outputs": [],
      "source": [
        "import numpy as np\n",
        "#reshape() : 배열의 모양을 변경할 수 있는 함수\n",
        "\n",
        "arr = np.arange(12)\n",
        "print(arr, arr.ndim) #1차원 배열로 출력\n",
        "\n",
        "arr = arr.reshape((3,4)) # 12개 원소 갯수는 맞아야함\n",
        "print(arr, arr.ndim)\n",
        "#arr = arr.reshape((2,3)) # 원소 갯수가 맞지 않아 size 안맞는 오류가 뜸\n",
        "\n",
        "arr = arr.reshape((2,3,2)) #3차원 행렬로 변환 (텐서)\n",
        "print(arr, arr.ndim)\n",
        "\n",
        "arr = arr.reshape((2,2,1,3)) #4차원 행렬로 변환\n",
        "print(arr, arr.ndim)"
      ]
    },
    {
      "cell_type": "code",
      "execution_count": null,
      "metadata": {
        "colab": {
          "base_uri": "https://localhost:8080/"
        },
        "id": "YgPvT8nadDTS",
        "outputId": "2033788e-a448-4920-ec0d-83c59456ec5d"
      },
      "outputs": [],
      "source": [
        "arr = np.arange(1, 13)\n",
        "print(arr)\n",
        "\n",
        "# 1차원 -> 2차원 배열\n",
        "arr = arr.reshape(3, -1)\n",
        "\n",
        "# 자동으로 3by4행렬로 출력\n",
        "print(arr) #"
      ]
    },
    {
      "cell_type": "markdown",
      "metadata": {
        "id": "ZbejTCmTVYI0"
      },
      "source": [
        " 5-2 배열의 형태 변경2 : resize(), ravel()"
      ]
    },
    {
      "cell_type": "code",
      "execution_count": null,
      "metadata": {
        "colab": {
          "base_uri": "https://localhost:8080/"
        },
        "id": "H3GZQf2FVdZz",
        "outputId": "cd69fab5-8438-43f5-ac48-ab6fe09a638f"
      },
      "outputs": [],
      "source": [
        "import numpy as np\n",
        "\n",
        "arr = np.arange(12)\n",
        "print(arr)\n",
        "\n",
        "#resize : reshape함수와 동일, 원본 데이터를 변경\n",
        "arr.resize(3,4)\n",
        "print(arr)\n",
        "\n",
        "#ravel : 1차원 배열로 다시 변경\n",
        "arr = arr.ravel()\n",
        "print(arr)"
      ]
    },
    {
      "cell_type": "markdown",
      "metadata": {
        "id": "UlKRDd4CZr52"
      },
      "source": [
        "5-3 전치행렬\n"
      ]
    },
    {
      "cell_type": "code",
      "execution_count": null,
      "metadata": {
        "colab": {
          "base_uri": "https://localhost:8080/"
        },
        "id": "aZKDGz7AZu3E",
        "outputId": "6f868a1b-e2e5-4491-f548-ab08d7410470"
      },
      "outputs": [],
      "source": [
        "#np.transpose(arr)\n",
        "arr = np.array([[1,2],\n",
        "                [3,4]])\n",
        "print(arr.T)\n",
        "\n",
        "arr = np.array([[1,2,3],\n",
        "                [4,5,6],\n",
        "                [7,8,9]])\n",
        "print(arr.T)\n",
        "\n",
        "arr = np.array([[1,2],\n",
        "                [3,4],\n",
        "                [5,6]])\n",
        "print(arr.T)"
      ]
    }
  ],
  "metadata": {
    "colab": {
      "provenance": []
    },
    "kernelspec": {
      "display_name": "Python 3",
      "name": "python3"
    },
    "language_info": {
      "name": "python"
    }
  },
  "nbformat": 4,
  "nbformat_minor": 0
}
